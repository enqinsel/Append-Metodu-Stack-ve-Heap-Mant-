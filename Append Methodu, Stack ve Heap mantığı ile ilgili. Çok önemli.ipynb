{
 "cells": [
  {
   "cell_type": "code",
   "execution_count": 41,
   "metadata": {},
   "outputs": [
    {
     "name": "stdout",
     "output_type": "stream",
     "text": [
      "['Laptop', 'Mouse', 'Keyboard']\n",
      "<class 'list'>\n",
      "['Laptop', 'Mouse', 'Keyboard', 'Telefon']\n",
      "Engin\n",
      "['Engin', 'Halil', 'Murat']\n",
      "['Engin', 'Halil', 'Murat']\n",
      "20\n",
      "60\n"
     ]
    }
   ],
   "source": [
    "urunler = [\"Laptop\" , \"Mouse\" , \"Keyboard\"]\n",
    "\n",
    "print(urunler)\n",
    "print(type(urunler))  \n",
    "\n",
    "#appendin kullanımı: \"urunler\" listesine sonradan bir şey eklemek istiyorsak urunler.append yapıp ekleyeceğimiz ürünü vs. yazmak.\n",
    "\n",
    "urunler.append(\"Telefon\")\n",
    "print(urunler)    #[\"Laptop\" , \"Mouse\" , \"Keyboard\", \"Telefon\"]\n",
    "\n",
    "#Bundan sonrası önemli , stack ve heap mantığı;\n",
    "\n",
    "ogrenciler1 = [\"İlker\" , \"Cavit\" , \"Berkay\"]\n",
    "ogrenciler2 = [\"Kerem\" , \"Halil\" , \"Murat\"]\n",
    "                                             #Nesnel programlamaya şuan itibari ile girmiş oldun\n",
    "ogrenciler1 = ogrenciler2 \n",
    "ogrenciler2[0] = \"Engin\"      \n",
    "print(ogrenciler1[0])    \n",
    "print(ogrenciler1)\n",
    "print(ogrenciler2) \n",
    "'''Aslında burada ogrenciler1 bellekte yok oluyor ve ogrenciler2 gibi davranıyor.\n",
    " Çünkü referans tipli olduğu için Heap özelliğinden yararlanılır,en kaba tabiriyle...\n",
    " Liste'nin bir referans numarası vardır ve eşitliğin diğer tarafındaki(ogrenciler1,ogrenciler2) o numaraya bakar.\n",
    " Daha sonra değer tip mantığı ile ogrenciler2'nin referans numarası ogrenciler1 ile aynı olur ve liste de aynı olur.\n",
    " Yani sonuç olarak: ogrenciler1[\"Engin\" , \"Halil\" , \"Murat\"]\n",
    "                    ogrenciler2[\"Engin\" , \"Halil\" , \"Murat\"]\n",
    " Referans numarasına adres deniliyor,bellekteki adres.'''      \n",
    "\n",
    "#Sonuçlar aynı. Burada değer ve referans tip dediğimiz durum söz konusu.\n",
    "\n",
    "#Benzer bir örnek daha;\n",
    "\n",
    "sayi1 = 10                        \n",
    "sayi2 = 20\n",
    "\n",
    "sayi1 = sayi2  #Burada sayi1 artık 20'dir. Bunu demek istiyor.Tamamen değerle ilgilenir.\n",
    "sayi2 = 60     #sayi2 bariz 60'dır. \n",
    "print(sayi1)\n",
    "print(sayi2)   \n",
    "\n",
    "\n",
    "#Burada ise sayi2 ne ise sayi1'de o dur. Direkt eşitlenir,tamamen değere bakılır.\n",
    "#sayi1'e bakılır sayi2 umursanmaz bile,yani sayi2'de değer ne varsa onu sayi1'e atar.\n",
    "\n",
    "\n",
    "\n",
    "#Sonuç olarak; \n",
    " # referans tip --> list(yani ogrenciler bölümü)\n",
    " # değer tip --> int(yani sayi1 ve sayi2, ikinci bölüm)\n",
    "\n",
    "# referans tipler: class,listeler ve stringler'den oluşur. Yazı tabanlıdır. Olay Heap'de gerçekleşiyor.\n",
    "# değer tipler: int,float,boolean(0,1) oluşur. Sayısal veri tabanlıdır. Olay Stack'de gerçekleşiyor.\n"
   ]
  },
  {
   "cell_type": "code",
   "execution_count": null,
   "metadata": {},
   "outputs": [],
   "source": []
  }
 ],
 "metadata": {
  "kernelspec": {
   "display_name": "Python 3",
   "language": "python",
   "name": "python3"
  },
  "language_info": {
   "codemirror_mode": {
    "name": "ipython",
    "version": 3
   },
   "file_extension": ".py",
   "mimetype": "text/x-python",
   "name": "python",
   "nbconvert_exporter": "python",
   "pygments_lexer": "ipython3",
   "version": "3.8.5"
  }
 },
 "nbformat": 4,
 "nbformat_minor": 4
}
